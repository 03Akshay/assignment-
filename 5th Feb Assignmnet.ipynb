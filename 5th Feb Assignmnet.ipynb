{
 "cells": [
  {
   "cell_type": "markdown",
   "id": "2949ec40-dec3-460e-8896-280be2de6131",
   "metadata": {},
   "source": [
    "# Assignment"
   ]
  },
  {
   "cell_type": "markdown",
   "id": "1534c55a-532b-4675-8064-ce7e9fc5ff58",
   "metadata": {},
   "source": [
    "## 1.Explain Class and Objet with respect ot Object-Oriented Programming. Give a suitable example."
   ]
  },
  {
   "cell_type": "markdown",
   "id": "eabe236c-e3c2-4a33-b1b4-8ae6622deefa",
   "metadata": {},
   "source": [
    "#### CLASS:\n",
    "\n",
    "    -> In object-oriented programming, a class is a blueprint for creating objects(a particular data structure),providing intial values for state(memeber variables or attributes), and implementations of behaviour(member functios or methods).\n",
    "    -> The user-defined objects are created using the \"class\" keyword. The class is a blueprint that defines a nature of future object. An instance is a specific object created from a particular class. Classes are used to create and manage new objects and support inheritance- a key ingredient in object-oriented programming and a mechanism ofreusing code.\n",
    "    -> A class is a way of organizing information about a type of data so a programmer can reuse elements when making multiple instances of that data type.\n",
    "    "
   ]
  },
  {
   "cell_type": "markdown",
   "id": "0e853957-8b35-44b4-9c7e-cb65fcf7b77f",
   "metadata": {},
   "source": [
    "#### For example, if a programmer wanted to make three instances of Car, maybe a BMW, a Ferrari, and a Ford instance. The car class would allow the programmer to store similar information that is unique to each car(they are different models, and maybe different colors, etc.) and associate the appropriate information with each car."
   ]
  },
  {
   "cell_type": "markdown",
   "id": "47044060-4423-44fd-a202-9d7fadfe179d",
   "metadata": {},
   "source": [
    "### \n",
    "      -> In object-oriented programming, a class is a template definition of the methods and variables in a particular kind of object. Thus, an object is a specific instance of a class; it contains real values instead of variables.\n",
    "      -> The class is one of the defining ideas of object-oriented programming. The important ideas about classes are:\n",
    "      \n",
    "      1. A class can have subclasses that can inherit all or some of the characteristics of the class. In relation to each subclass, the class becomes the superclass.\n",
    "      2. Subclasses can also define their own methods and variables that are not part of their superclasses.\n",
    "      3. The structure of a class and its subclasses is called the class hierarchy."
   ]
  },
  {
   "cell_type": "markdown",
   "id": "8bc83e4d-d463-4c6f-b017-b79381d65fc4",
   "metadata": {},
   "source": [
    "### OBJECT:\n",
    "   \n",
    "    -> In object-oriented programming(OOP),objects are the things you think about first in designing a program ad they are eventually derived from the process. In bedtweem each object, and even more gemeric classes are defined so that objects can share models and reuse the class definitions in their code. Each object is an instance of a particular class or subclass with the class's own methods or procedures and data variables. An object is what actually runs in the computer.\n",
    "\n",
    "  CHARACTERISTICS OF AN OBJECT:\n",
    "  \n",
    "       ->All individual objects possess three basic characteristics--identity,state and behavior.Understanding these characteristics is crucial to knowing how objets and object-oriented logic work.\n",
    "       \n",
    "       1.Identity: It means that each object has its own object identifier and can be differentiated from all other objects. Each objects name, or identity, is unique and distinct from other objects.\n",
    "       2.State: It refers to the properties of an object. For example, values of variables in the object contain data that can be added, changed or deleted.\n",
    "       3.Behavior: It refers to actions that the object can take. For example, one object can respond to another object to carry out software functions."
   ]
  },
  {
   "cell_type": "markdown",
   "id": "b73ddce6-6eb3-465f-be25-8530bc6113e0",
   "metadata": {},
   "source": [
    "#### Example for objects are the real world objects: your dog, your desk, your bag, your bike and many more around us."
   ]
  },
  {
   "cell_type": "markdown",
   "id": "002e99d3-ac1c-4fef-a38a-f7a206ba3da0",
   "metadata": {},
   "source": [
    "## 2.Name the four pillars of OOPs."
   ]
  },
  {
   "cell_type": "markdown",
   "id": "254c5d1b-b425-441f-871b-005fbca85d88",
   "metadata": {},
   "source": [
    "#### The four pillars of OOPs are:\n",
    "1. Inheritance\n",
    "2. Encapsulation\n",
    "3. Abstraction\n",
    "4. Polymorphism"
   ]
  },
  {
   "cell_type": "markdown",
   "id": "6489c863-93a2-46e2-9c88-943054535ad6",
   "metadata": {},
   "source": [
    "### 1.Inheritance:\n",
    "             => Inheritance is the ability of one class to inherit the attributes and methods of another class. This is useful because it allows you to create subclasses that are specialized versions of a parent class. For example, you could have a parent class.For example, you could have a parent class called Vehicle, with subclasses Car and Truck. The Vehicle class would contian general attributes and methods that are common to all vehicles, such as the number of wheels and the color.\n",
    "             \n",
    "    "
   ]
  },
  {
   "cell_type": "markdown",
   "id": "e84f6d21-d61c-41e9-9c3d-5572768f35f8",
   "metadata": {},
   "source": [
    "### 2.Encapsulation:\n",
    "   \n",
    "              => Encapsulation is the process of hiding information within an object so that it cannot be accessed directly from ouside the object. This allows you to control how data is used and prevents accidental modification of data. For example,you could have a class called Person with attributes such name and age. You could then create methods to get and set these attributes. This would allow ou to control how the data is used, and you could add validation to ensure that the data is valid before it is set."
   ]
  },
  {
   "cell_type": "markdown",
   "id": "f1b84351-33ad-4fe0-8dcb-ccb1efb24dd7",
   "metadata": {},
   "source": [
    "### 3.Abstraction:\n",
    "\n",
    "               => Abstraction is the process of hiding the implementation details of an object so that it can be used without understanding how it works, This allows you to create code that is easy to use and maintian.For example, you could have a class called Vehicle with methods such as drive and stop, the details of how these methods work are hidden from the user, so they are can simply call the methods and trust that they will woork as expected."
   ]
  },
  {
   "cell_type": "markdown",
   "id": "7b57f42d-677d-4614-ad4d-5230c972ebca",
   "metadata": {},
   "source": [
    "### 4.Polymorphism:\n",
    "\n",
    "                => polymorphism is the ability of an object to take on multiple forms. This is useful because it allows you to create code the that is more flexible and adaptable. FOr example, you could have a class called Shape with subclasses Circle and Rectangle. The Shape class would contain general methods such as getArea and getPerimeter. The Circle and Rectagle subclasses would then each have their own unique implementation of these methods."
   ]
  },
  {
   "cell_type": "markdown",
   "id": "85c4ec35-90f6-498f-8f14-531b6849d16a",
   "metadata": {},
   "source": [
    "## 3.Explain why the __init__() function is used. Give a suitable example."
   ]
  },
  {
   "cell_type": "markdown",
   "id": "9d24b0f3-e2f6-484d-aa3b-0f1a4e3d78f3",
   "metadata": {},
   "source": [
    "### In an object-oriented approach, the __init__ method is the Python equivalent of the c++ constructor. Every time an object is created from a class, the __init__ function is called. The __init__ method only allows the class to initialize the object's attributes. It is only used within classes.\n",
    " \n",
    "    => __init__() function is defined just like a regular python function. Self must be the first agrument. After that, you can pass arguments of your requirements. The logic of the function comes in the function definition part.\n",
    "    \n",
    "    Syntax:\n",
    "    \n",
    "         class Songs:\n",
    "             def __init__(self,arguments):\n",
    "                #function definition\n",
    "                \n",
    "  \n",
    "  \n",
    "\n",
    "    => The __init__method lets the class initialize the object's attributes and serves no other purpose. It is only used within the classes.This method is useful to do any initialization you want to do with you object."
   ]
  },
  {
   "cell_type": "code",
   "execution_count": 2,
   "id": "3bf67cba-264d-4b32-93a0-804fa994b274",
   "metadata": {},
   "outputs": [
    {
     "name": "stdout",
     "output_type": "stream",
     "text": [
      "Rudra\n",
      "26\n",
      "male\n"
     ]
    }
   ],
   "source": [
    "#program by using the __init__ function\n",
    "class Person:\n",
    "    def __init__(self,name,age,sex):\n",
    "        self.name=name\n",
    "        self.age=age\n",
    "        self.sex=sex\n",
    "p1=Person(\"Rudra\",26,\"male\")\n",
    "\n",
    "print(p1.name)\n",
    "print(p1.age)\n",
    "print(p1.sex)"
   ]
  },
  {
   "cell_type": "markdown",
   "id": "5abd8e94-422b-4aa6-a73a-0be6e837dd9b",
   "metadata": {},
   "source": [
    "## 4.Why self is used in OOPs?\n"
   ]
  },
  {
   "cell_type": "markdown",
   "id": "1282486a-ecb2-43c6-87b9-ca835b40415f",
   "metadata": {},
   "source": [
    "### The self variable is used to represent the instance of the class which is often used in object-oriented programming. It works as a reference to the object.\n",
    "\n",
    "     => The method of instance_method is a regular instance method. The method accepts one single parameter->self. The self variable points to an instance of the class myClass when the method is revoked. Though, the method takes only one parameter here, it can also accept more than one parameter.\n",
    "     \n",
    "     => The instance methods can easily access different attributes and other methods on the same object with the help of the self variable. The self variable also has the power to modify the state of an object and using the self._class_ attribute, instance methods can also access the class. Thus, the instance methods are also able to modify the class state.\n",
    "    "
   ]
  },
  {
   "cell_type": "code",
   "execution_count": 24,
   "id": "9dabdad1-df1c-45a6-bce4-0b97f426a6bd",
   "metadata": {},
   "outputs": [
    {
     "name": "stdout",
     "output_type": "stream",
     "text": [
      "Address of self =  140063500627216\n",
      "Address of class object =  140063500627216\n"
     ]
    }
   ],
   "source": [
    "#1.Example for self variable.\n",
    "class check:\n",
    "    def __init__(self):\n",
    "        print(\"Address of self = \",id(self))\n",
    "  \n",
    "obj = check()\n",
    "print(\"Address of class object = \",id(obj))\n",
    "  "
   ]
  },
  {
   "cell_type": "code",
   "execution_count": 25,
   "id": "10592fbd-024a-4b84-ab33-4ed68fbfd963",
   "metadata": {},
   "outputs": [
    {
     "name": "stdout",
     "output_type": "stream",
     "text": [
      "Devi\n",
      "35\n",
      "female\n"
     ]
    }
   ],
   "source": [
    "#2.Example for the self variable\n",
    "class Person:\n",
    "    def __init__(self,name,age,sex):\n",
    "        self.name=name\n",
    "        self.age=age\n",
    "        self.sex=sex\n",
    "p1=Person(\"Devi\",35,\"female\")\n",
    "\n",
    "print(p1.name)\n",
    "print(p1.age)\n",
    "print(p1.sex)\n"
   ]
  },
  {
   "cell_type": "markdown",
   "id": "c6a60bda-1b46-4ea4-9836-7983f3f04b87",
   "metadata": {},
   "source": [
    "## 5.What is inheritance? Give an example for each type of inheritance.\n"
   ]
  },
  {
   "cell_type": "markdown",
   "id": "22551809-5411-4d71-9405-205f81ee5979",
   "metadata": {},
   "source": [
    "### 1.Inheritance:\n",
    "             => Inheritance is the ability of one class to inherit the attributes and methods of another class. This is useful because it allows you to create subclasses that are specialized versions of a parent class. For example, you could have a parent class.For example, you could have a parent class called Vehicle, with subclasses Car and Truck. The Vehicle class would contian general attributes and methods that are common to all vehicles, such as the number of wheels and the color.\n",
    "             \n",
    "          => The interesting thing is, along with the inherited properites and methods, a child class can have its own properties and methods. There are five types of inheritance, they are;\n",
    "\n",
    "      1. Single inheritance\n",
    "      2. Multiple inheritance\n",
    "      3. Multilevel inheritance\n",
    "      4. Hierarchical inheritance\n",
    "      5. Hybrid(virtual) inheritance"
   ]
  },
  {
   "cell_type": "markdown",
   "id": "bfaa9c08-baf4-4e3e-a627-90fc75b97d23",
   "metadata": {},
   "source": [
    "###  1.Single inheritance:\n",
    "              \n",
    "                  => This is a form of inheritance in which a class inherits only one parent class.This is the simple form of inheritance and hence also referred to as simple inheritance."
   ]
  },
  {
   "cell_type": "code",
   "execution_count": 26,
   "id": "2b2c763d-13c4-4465-a945-73fb19e473f2",
   "metadata": {},
   "outputs": [
    {
     "name": "stdout",
     "output_type": "stream",
     "text": [
      "Function of parent class.\n",
      "Function of child class.\n"
     ]
    }
   ],
   "source": [
    "#example program for single inheritance.\n",
    "class Parent:\n",
    "    def f1(self):\n",
    "        print(\"Function of parent class.\")\n",
    "        \n",
    "class Child(Parent):\n",
    "    def f2(self):\n",
    "        print(\"Function of child class.\")\n",
    "        \n",
    "object1=Child()\n",
    "object1.f1()\n",
    "object1.f2()"
   ]
  },
  {
   "cell_type": "markdown",
   "id": "55fddd1f-98ee-4e14-b108-ff1cbf0c3805",
   "metadata": {},
   "source": [
    "### 2. Multiple inheritance:\n",
    "             \n",
    "         => An inheritance becomes multiple inheritances when a class inherits more than one parent class. The child class after inheriting properties from various parent classes has to all of their objects."
   ]
  },
  {
   "cell_type": "code",
   "execution_count": 27,
   "id": "4d3e5b6b-bd73-47f1-b25e-f8f036443efb",
   "metadata": {},
   "outputs": [
    {
     "name": "stdout",
     "output_type": "stream",
     "text": [
      "Function of parent_1 class.\n",
      "Function of parent_2 class.\n",
      "Function of child class.\n"
     ]
    }
   ],
   "source": [
    "#example program for multiple inheritance.\n",
    "class Parent_1:\n",
    "    def f1(self):\n",
    "        print(\"Function of parent_1 class.\")\n",
    "        \n",
    "class Parent_2:\n",
    "    def f2(self):\n",
    "        print(\"Function of parent_2 class.\")\n",
    "        \n",
    "class Child(Parent_1,Parent_2):\n",
    "    def f3(self):\n",
    "        print(\"Function of child class.\")\n",
    "        \n",
    "object_1 = Child()\n",
    "object_1.f1()\n",
    "object_1.f2()\n",
    "object_1.f3()"
   ]
  },
  {
   "cell_type": "markdown",
   "id": "4eccd917-d3ca-4ac9-b21b-705bb09150ec",
   "metadata": {},
   "source": [
    "### 3.Multi-level inheritance:\n",
    "            => For example, a class_1 is inherited by a class_2 and this class_2 and this goes on. This is known as the multi-level inheritance. "
   ]
  },
  {
   "cell_type": "code",
   "execution_count": 11,
   "id": "377ecd97-2957-4ae0-92a5-7a8a2182ec67",
   "metadata": {},
   "outputs": [
    {
     "name": "stdout",
     "output_type": "stream",
     "text": [
      "Function of parent class.\n",
      "Function of child_1 class.\n",
      " \n",
      "Function of parent class.\n",
      "Function of child_1 class.\n",
      "Function of child_2 class.\n"
     ]
    }
   ],
   "source": [
    "#example program for multi-level inheritance.\n",
    "class Parent:\n",
    "    def f1(self):\n",
    "        print(\"Function of parent class.\")\n",
    "        \n",
    "class Child_1(Parent):\n",
    "    def f2(self):\n",
    "        print(\"Function of child_1 class.\")\n",
    "        \n",
    "class Child_2(Child_1):\n",
    "    def f3(self):\n",
    "        print(\"Function of child_2 class.\")\n",
    "        \n",
    "obj_1=Child_1()\n",
    "obj_2=Child_2()\n",
    "\n",
    "obj_1.f1()\n",
    "obj_1.f2()\n",
    "\n",
    "print(\" \")\n",
    "obj_2.f1()\n",
    "obj_2.f2()\n",
    "obj_2.f3()"
   ]
  },
  {
   "cell_type": "markdown",
   "id": "a9468bca-3263-4664-beb0-736e36783dc8",
   "metadata": {},
   "source": [
    "### 4.Hierarchical inheritance:\n",
    "\n",
    "           => In this, various classes inherit a single parent class. The example given in the introduction of the inheritance is an examplef of Hierarchical inheritance since classes BMW and Audi inheirt class CAr."
   ]
  },
  {
   "cell_type": "code",
   "execution_count": 14,
   "id": "f3b4b304-3dac-42e6-8294-3c19192f3cce",
   "metadata": {},
   "outputs": [
    {
     "name": "stdout",
     "output_type": "stream",
     "text": [
      "Function of parent class.\n",
      "Function of child_1 class.\n",
      "\n",
      "\n",
      "Function of parent class.\n",
      "Function of child_2 class.\n"
     ]
    }
   ],
   "source": [
    "#example program for the Hierarchical inheritance.\n",
    "class Parent:\n",
    "    def f1(self):\n",
    "        print(\"Function of parent class.\")\n",
    "\n",
    "class Child_1(Parent):\n",
    "    def f2(self):\n",
    "        print(\"Function of child_1 class.\")\n",
    "\n",
    "class Child_2(Parent):\n",
    "    def f3(self):\n",
    "        print(\"Function of child_2 class.\")\n",
    "\n",
    "obj_1 = Child_1()\n",
    "obj_2 = Child_2()\n",
    "\n",
    "obj_1.f1()\n",
    "obj_1.f2()\n",
    "\n",
    "print('\\n')\n",
    "obj_2.f1()\n",
    "obj_2.f3()\n"
   ]
  },
  {
   "cell_type": "markdown",
   "id": "851fbdf0-0f60-4a7e-a44b-e47e14a81af8",
   "metadata": {},
   "source": [
    "### 5.Hybrid(virtual) inheritance:\n",
    "\n",
    "              =>  When there is a combination of more than one form of inheritance, it is known as hybrid inheritance. It will be more clear after this example:"
   ]
  },
  {
   "cell_type": "code",
   "execution_count": 28,
   "id": "dc083b25-2b04-4a1f-9a44-2a0114465148",
   "metadata": {},
   "outputs": [
    {
     "name": "stdout",
     "output_type": "stream",
     "text": [
      "Function of parent class.\n",
      "Function of child_1 class.\n",
      "Function of child_2 class.\n",
      "Function of child_3 class.\n"
     ]
    }
   ],
   "source": [
    "#example program for Hybrid inheritance.\n",
    "def f1(self):\n",
    "    print(\"Function of parent class.\")\n",
    "\n",
    "class Child_1(Parent):\n",
    "    def f2(self):\n",
    "        print(\"Function of child_1 class.\")\n",
    "\n",
    "class Child_2(Parent):\n",
    "    def f3(self):\n",
    "        print(\"Function of child_2 class.\")\n",
    "\n",
    "class Child_3(Child_1, Child_2):\n",
    "    def f4(self):\n",
    "        print(\"Function of child_3 class.\")\n",
    "\n",
    "obj = Child_3()\n",
    "obj.f1()\n",
    "obj.f2()\n",
    "obj.f3()\n",
    "obj.f4()\n"
   ]
  },
  {
   "cell_type": "code",
   "execution_count": null,
   "id": "b25e510c-0a12-4fa4-b84f-532c0e4b6f30",
   "metadata": {},
   "outputs": [],
   "source": []
  }
 ],
 "metadata": {
  "kernelspec": {
   "display_name": "Python 3 (ipykernel)",
   "language": "python",
   "name": "python3"
  },
  "language_info": {
   "codemirror_mode": {
    "name": "ipython",
    "version": 3
   },
   "file_extension": ".py",
   "mimetype": "text/x-python",
   "name": "python",
   "nbconvert_exporter": "python",
   "pygments_lexer": "ipython3",
   "version": "3.10.8"
  }
 },
 "nbformat": 4,
 "nbformat_minor": 5
}
