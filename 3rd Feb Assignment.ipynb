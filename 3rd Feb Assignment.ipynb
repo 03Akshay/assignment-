{
 "cells": [
  {
   "cell_type": "markdown",
   "id": "e07f040c-9439-4803-bb14-bbc9ce06297e",
   "metadata": {},
   "source": [
    "# Assignment"
   ]
  },
  {
   "cell_type": "markdown",
   "id": "731ef1b9-6e37-4326-9e53-520c645bb8ed",
   "metadata": {},
   "source": [
    "### 1.Which keyword is used to create a function? Create a function to return a list of odd numbers in the range of 1 to 25."
   ]
  },
  {
   "cell_type": "markdown",
   "id": "055f5dd2-9bb0-45cb-adb8-6b9d80fa30c9",
   "metadata": {},
   "source": [
    "#### In Python, you define a function with the 'def' keyword, then write the function identifier(name) followed by parenthesis and a colon.\n",
    "     The next thing you have to do is make sure you indent with a tab or 4 spaces, and then specify what you want the function to do for you.\n",
    "     \n",
    "     Syntax:  def functionName():\n",
    "                  # What to do with function"
   ]
  },
  {
   "cell_type": "code",
   "execution_count": 2,
   "id": "226aa67c-e405-482c-b6f8-0cda8e618e09",
   "metadata": {},
   "outputs": [
    {
     "name": "stdout",
     "output_type": "stream",
     "text": [
      "[1, 3, 5, 7, 9, 11, 13, 15, 17, 19, 21, 23, 25]\n"
     ]
    }
   ],
   "source": [
    "# creating a function to return a list of odd numbers in the range of 1 to 25.\n",
    "def odd_numbers(n):\n",
    "    return[x for x in range(n+1) if x%2==1]\n",
    "\n",
    "print(odd_numbers(25))"
   ]
  },
  {
   "cell_type": "markdown",
   "id": "3cea1219-ca01-40ec-9310-895957ef4e96",
   "metadata": {},
   "source": [
    "## 2.Why *args and *kwargs is used in some functions? Create a function each for *args and *kwargs to demonstrate their use."
   ]
  },
  {
   "cell_type": "markdown",
   "id": "6472ff67-c655-4f06-b8d7-79289d9e8a51",
   "metadata": {},
   "source": [
    "### In Python, we can pass a variable number of arguments to a function using special symbols. There are two special symbols:\n",
    "        \n",
    "        1. *args(Non Keyword Arguments)\n",
    "        2. **kwargs(Keyword Arguments)\n",
    "        \n",
    "1. *args(Non Keyword Arguments): Python has *args which allow us to pass the variable number of non keyword arguments to function. In the function, we should use an asteristk(*) before the parameter name to pass varaible length arguments. The arguments are passed as a tuple and these passed arguments make tuple inside the function with same name as the parameter excluding asterisk(*).\n",
    "\n",
    "2. **kwargs(Keyword Arguments): **kwargs allows us to pass a variable number of keyword arguments to a Python function. In the function, we use the double-asterisk(**) before the parameter name to denote this type of argument. The arguments are passed as a dictionary and these arguments make a dictionary inside function with dname samw as the parameter excludingdouble asterisk(**)."
   ]
  },
  {
   "cell_type": "code",
   "execution_count": 5,
   "id": "ca7fef50-a94b-4db4-8588-77de880aaf3e",
   "metadata": {},
   "outputs": [
    {
     "name": "stdin",
     "output_type": "stream",
     "text": [
      "Enter the value of a 10\n",
      "Enter the value of b 20\n"
     ]
    },
    {
     "name": "stdout",
     "output_type": "stream",
     "text": [
      "30\n"
     ]
    }
   ],
   "source": [
    "# creating a function for *args\n",
    "def add(*numbers):\n",
    "    total=0\n",
    "    for num in numbers:\n",
    "        total+=num\n",
    "    return total\n",
    "\n",
    "a=int(input(\"Enter the value of a\"))\n",
    "b=int(input(\"Enter the value of b\"))\n",
    "print(add(a,b))"
   ]
  },
  {
   "cell_type": "code",
   "execution_count": 6,
   "id": "2ab1feb1-cf4a-4008-9150-026ddda5582a",
   "metadata": {},
   "outputs": [
    {
     "name": "stdout",
     "output_type": "stream",
     "text": [
      "20\n"
     ]
    }
   ],
   "source": [
    "#creating a function for **kwargs\n",
    "def total_fruits(**fruits):\n",
    "    total=0\n",
    "    for amount in fruits.values():\n",
    "        total+=amount\n",
    "    return total\n",
    "\n",
    "\n",
    "print(total_fruits(banana=5,mango=7,apple=8))    "
   ]
  },
  {
   "cell_type": "markdown",
   "id": "cf306949-5f8d-4ec5-9210-cac74f959809",
   "metadata": {},
   "source": [
    "### 3.What is an iterator in python? Name the method used to initialise the iterator object and the method used for iteration. Use these methods to print the first five elements of the given list [2,4,6,8,10,12,14,16,18,20]."
   ]
  },
  {
   "cell_type": "markdown",
   "id": "afcd3dac-7ad9-4f6e-a120-07983842d995",
   "metadata": {},
   "source": [
    "#### An iterator in Python is an object that contains a countable number of elements that can be iterated upon. In simpler words, we can say that Iterators are objects that allow you to traverse through all the elements of a collection and return one element at a time. More specifically, we say that an iterator is an object that implements the iterator protocol. Iterators are used in both for loops and while loops."
   ]
  },
  {
   "cell_type": "markdown",
   "id": "4a1c74ad-81b8-4b89-8458-21650ad58fc0",
   "metadata": {},
   "source": [
    "### The iterator object is initialized using the iter() method. It uses the next() method for iteration.\n",
    "\n",
    "1. iter() method: The iter() method is called for the initialization of an iterator. This returns an iterator object. This required to allow both containers and iterators to usd with for and in statements.\n",
    "\n",
    "2. next() method: The next() method returns the next value for the iterable. When we use a for loop to traverse any iterable object, internally it uses the iter() method to get an iterator object, which further uses the next() method to iterate over. This method raises a stop iteration to signal the end of the iteration."
   ]
  },
  {
   "cell_type": "code",
   "execution_count": 19,
   "id": "bde072e4-09b9-4710-93d6-b86619515de6",
   "metadata": {},
   "outputs": [
    {
     "name": "stdout",
     "output_type": "stream",
     "text": [
      "2\n",
      "4\n",
      "6\n",
      "8\n",
      "10\n"
     ]
    }
   ],
   "source": [
    "# printing the first five(5) elements of the given list using the iterator methods.\n",
    "list=[2,4,6,8,10,12,14,16,18,20]\n",
    "list_iter=iter(list)        # using the iter() method\n",
    " \n",
    "for list in range(0,5):\n",
    "    print(next(list_iter))    #using the next() method"
   ]
  },
  {
   "cell_type": "code",
   "execution_count": 16,
   "id": "f82b16e5-e1c0-40c3-8601-5271aa7af269",
   "metadata": {},
   "outputs": [
    {
     "name": "stdout",
     "output_type": "stream",
     "text": [
      "2\n",
      "4\n",
      "6\n",
      "8\n",
      "10\n"
     ]
    }
   ],
   "source": [
    "# We can use the this method also for the above example.\n",
    "list=[2,4,6,8,10,12,14,16,18,20]\n",
    "list_iter=iter(list)\n",
    "\n",
    "print(next(list_iter))\n",
    "print(next(list_iter))\n",
    "print(next(list_iter))\n",
    "print(next(list_iter))\n",
    "print(next(list_iter))"
   ]
  },
  {
   "cell_type": "markdown",
   "id": "73e3a349-09f4-45a7-bf86-0787e03e78e8",
   "metadata": {},
   "source": [
    "### 4.What is a generator function in python? Why yeild keyword is used? Give an example of a generator function."
   ]
  },
  {
   "cell_type": "markdown",
   "id": "b055a3b3-7760-4c6f-8f5a-0b7058d8f471",
   "metadata": {},
   "source": [
    "#### A generator is a special type of function which does not return a single value, instead, it returns an iterator object with a sequence of values. In a generator function, a yield statement is used rather than a return statement. \n",
    "\n",
    "     Python Generator functions allow you to declare a function that behaves likes an iterator, allowing programmers to make an iterator in a fast, easy and clean way. An iterator is an object that can be iterated or looped upon, It is usded to abstract a container of data to make it behave like an iterable object. Examples of iterable objects that are used more commonly include lists, dictionaries, and strings."
   ]
  },
  {
   "cell_type": "markdown",
   "id": "6b883ba5-5767-49de-9897-d8f93b8e124b",
   "metadata": {},
   "source": [
    "#### yield keyword is used to create a generator function. A type of function that is memeory effiecient and can be used like an iterator object.\n",
    "  When you call a function that has a yield statement, as soon as a yield is encountered, the execution of the function halts and returns a generator iterator object instead of simply returning a value. The state of the function,which includes variable bindings, the instruction pointer, the internal stack, and a few other things, is saved."
   ]
  },
  {
   "cell_type": "code",
   "execution_count": 27,
   "id": "bd332812-fc57-43e1-ae94-341408b9850e",
   "metadata": {},
   "outputs": [
    {
     "name": "stdout",
     "output_type": "stream",
     "text": [
      "0\n",
      "2\n",
      "4\n",
      "6\n",
      "8\n"
     ]
    }
   ],
   "source": [
    "# An example of a generator function.\n",
    "def mygenerator():\n",
    "    for i in range(10):\n",
    "        if(i%2==0):\n",
    "            yield i\n",
    "            \n",
    "for i in mygenerator():\n",
    "    print(i)"
   ]
  },
  {
   "cell_type": "markdown",
   "id": "1d129e20-11b5-4762-9ddf-7227e69c3c61",
   "metadata": {},
   "source": [
    "### 5. Create a generator function for prime numbers less than 1000. Use the next() method to print the first 20 prime numbers."
   ]
  },
  {
   "cell_type": "code",
   "execution_count": 90,
   "id": "2d0e7ceb-8c84-4e7d-ae78-8670a8585888",
   "metadata": {},
   "outputs": [
    {
     "name": "stdout",
     "output_type": "stream",
     "text": [
      "2\n",
      "3\n",
      "5\n",
      "7\n",
      "11\n",
      "13\n",
      "17\n",
      "19\n",
      "23\n",
      "29\n",
      "31\n",
      "37\n",
      "41\n",
      "43\n",
      "47\n",
      "53\n",
      "59\n",
      "61\n",
      "67\n",
      "71\n"
     ]
    }
   ],
   "source": [
    "# printing the first 20 prime numbers by using the next() method\n",
    "def gen_prime():\n",
    "    num=1\n",
    "    prime=False\n",
    "    while True:\n",
    "        for i in range(2,num+1):\n",
    "            if num % i ==0:\n",
    "                prime=False\n",
    "                if i == num:\n",
    "                    prime=True\n",
    "                break\n",
    "        if prime:\n",
    "            yield num\n",
    "            num+=1\n",
    "        else:\n",
    "            num+=1\n",
    "            \n",
    "prime=gen_prime()\n",
    "for i in range(20):\n",
    "    print(next(prime))"
   ]
  },
  {
   "cell_type": "code",
   "execution_count": null,
   "id": "a6792607-a78a-4ee5-b0a6-07b55e017655",
   "metadata": {},
   "outputs": [],
   "source": []
  }
 ],
 "metadata": {
  "kernelspec": {
   "display_name": "Python 3 (ipykernel)",
   "language": "python",
   "name": "python3"
  },
  "language_info": {
   "codemirror_mode": {
    "name": "ipython",
    "version": 3
   },
   "file_extension": ".py",
   "mimetype": "text/x-python",
   "name": "python",
   "nbconvert_exporter": "python",
   "pygments_lexer": "ipython3",
   "version": "3.10.8"
  }
 },
 "nbformat": 4,
 "nbformat_minor": 5
}
