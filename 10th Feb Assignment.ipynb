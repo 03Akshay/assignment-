﻿gi{
 "cells": [
  {
   "cell_type": "markdown",
   "id": "002998cc-e080-46a4-a6cd-6b6c1cad5bf4",
   "metadata": {},
   "source": [
    "# Assignment"
   ]
  },
  {
   "cell_type": "markdown",
   "id": "dabf9aff-1376-42cc-87b9-f281c320d24e",
   "metadata": {},
   "source": [
    "## 1.Which function is used to open a file? What are the different modes of opening a file? Explain each mode of file opening.\n"
   ]
  },
  {
   "cell_type": "markdown",
   "id": "06787fd4-74a5-4a01-bb3c-bf57aa3c1327",
   "metadata": {},
   "source": [
    "#### In Python, the built-in function used to open a file is open(). The syntax for using this function is as follows:\n"
   ]
  },
  {
   "cell_type": "markdown",
   "id": "d4b129ab-4c79-4555-9758-948afc40dd28",
   "metadata": {},
   "source": [
    "### syntax:\n",
    "            file_object = open(file_name, mode)"
   ]
  },
  {
   "cell_type": "markdown",
   "id": "dc3afd8c-e118-4d1b-a5ba-6d88c7201cff",
   "metadata": {},
   "source": [
    "#### where file_name is the name of the file you want to open, and mode is a string that specifies the mode in which you want to open the file (e.g., \"r\" for read mode, \"w\" for write mode, etc.)."
   ]
  },
  {
   "cell_type": "markdown",
   "id": "48df2ffd-8e4d-434f-a193-deaadba34c77",
   "metadata": {},
   "source": [
    "#### In Python, there are several modes in which you can open a file:\n",
    "\n",
    "    1.\"r\" - Read mode, which is used to read the file. This is the default mode and is used when you only need to read the contents of a file.\n",
    "\n",
    "    2.\"w\" - Write mode, which is used to write to a file. If the file exists, its contents are truncated, and if it does not exist, a new file is created.\n",
    "\n",
    "    3.\"a\" - Append mode, which is used to append data to the end of an existing file. If the file does not exist, a new file is created.\n",
    "\n",
    "    4.\"x\" - Exclusive creation mode, which is used to create a new file for writing. If the file already exists, an error is raised.\n",
    "\n",
    "    5.\"b\" - Binary mode, which is used to read or write binary data.\n",
    "\n",
    "You can combine the above modes, for example \"rb\" for reading binary data or \"w+\" for opening a file for reading and writing."
   ]
  },
  {
   "cell_type": "markdown",
   "id": "e5d5dfdf-d506-458f-8a39-366fbd4337e7",
   "metadata": {},
   "source": [
    "#### 1.\"r\" (Read mode): This mode is used to read the contents of a file. If the file does not exist, an error is raised. This is the default mode, and it's used when you only need to read the contents of a file. The syntax for opening a file in read mode is as follows:\n"
   ]
  },
  {
   "cell_type": "markdown",
   "id": "5a6546f2-3533-478c-9d02-45572465990a",
   "metadata": {},
   "source": [
    "#### syntax:\n",
    "            file_object = open(\"filename.txt\", \"r\")"
   ]
  },
  {
   "cell_type": "markdown",
   "id": "b809c925-a098-4045-8829-60f3d866baa8",
   "metadata": {},
   "source": [
    "#### 2.\"w\" (Write mode): This mode is used to write to a file. If the file already exists, its contents are truncated, and if the file does not exist, a new file is created. The syntax for opening a file in write mode is as follows:"
   ]
  },
  {
   "cell_type": "markdown",
   "id": "328a2390-78ff-474c-ae54-d73e4aa47214",
   "metadata": {},
   "source": [
    "### syntax:\n",
    "            file_object = open(\"filename.txt\", \"w\")"
   ]
  },
  {
   "cell_type": "markdown",
   "id": "95a4c423-c6df-42de-bcc8-31371d0dac5b",
   "metadata": {},
   "source": [
    "#### 3.\"a\" (Append mode): This mode is used to append data to the end of an existing file. If the file does not exist, a new file is created. The syntax for opening a file in append mode is as follows:"
   ]
  },
  {
   "cell_type": "markdown",
   "id": "16f8b1f1-a795-40c2-a5dd-e2ad8d3d7e1e",
   "metadata": {},
   "source": [
    "#### syntax:\n",
    "            file_object = open(\"filename.txt\", \"a\")"
   ]
  },
  {
   "cell_type": "markdown",
   "id": "8aab5a3e-29fa-4af0-90d1-5b6a3deef620",
   "metadata": {},
   "source": [
    "#### 4.\"x\" (Exclusive creation mode): This mode is used to create a new file for writing. If the file already exists, an error is raised. The syntax for opening a file in exclusive creation mode is as follows:"
   ]
  },
  {
   "cell_type": "markdown",
   "id": "d501931e-2c35-4fdd-87e3-4eb486936423",
   "metadata": {},
   "source": [
    "#### syntax:\n",
    "            file_object = open(\"filename.txt\", \"x\")"
   ]
  },
  {
   "cell_type": "markdown",
   "id": "e4395a6e-350e-4de9-9794-2320db5ded99",
   "metadata": {},
   "source": [
    "#### 5.\"b\" (Binary mode): This mode is used to read or write binary data, such as images, audio files, etc. The syntax for opening a file in binary mode is as follows:"
   ]
  },
  {
   "cell_type": "markdown",
   "id": "8c1dced8-29c5-4599-b39a-6ac84fca2fec",
   "metadata": {},
   "source": [
    "#### syntax:\n",
    "             file_object = open(\"filename.txt\", \"b\")"
   ]
  },
  {
   "cell_type": "markdown",
   "id": "bff22400-f5ee-4c42-9acd-fed71de9a628",
   "metadata": {},
   "source": [
    "## 2.Why close() function is used? Why is it important to close a file?"
   ]
  },
  {
   "cell_type": "markdown",
   "id": "ae4438b4-061d-4df4-99cd-9ba03c2a37a0",
   "metadata": {},
   "source": [
    "#### The close() function is used to close a file after it has been opened. Closing a file is important because it frees up system resources that were being used to access the file.\n",
    "\n",
    "       When you open a file, the operating system allocates memory and other resources to represent the file. If you don't close the file when you're finished with it, these resources will remain in use even though you no longer need them. Over time, this can lead to resource exhaustion and stability issues, especially if you're opening and closing many files in quick succession.\n",
    "\n",
    "      Additionally, when you close a file, any changes you made to its contents are flushed to disk, ensuring that they are permanent and will not be lost in the event of a power outage or system crash."
   ]
  },
  {
   "cell_type": "markdown",
   "id": "b0a412da-f32f-4aa8-bb3c-0f346ad7ce45",
   "metadata": {},
   "source": [
    "#### So, to ensure the efficient use of resources and the stability of your program, it's important to close files as soon as you're finished with them. In Python, you can do this by calling the close() method on the file object. It's a good practice to use the with statement when working with files in Python, as it automatically closes the file when the block of code within the with statement is finished, even if an exception is raised."
   ]
  },
  {
   "cell_type": "markdown",
   "id": "07234631-1b0f-464b-8322-b0e40a8ecb17",
   "metadata": {},
   "source": [
    "## 3.Write a python program to create a text file. Write ‘I want to become a Data Scientist’ in that file. Then close the file. Open this file and read the content of the file."
   ]
  },
  {
   "cell_type": "code",
   "execution_count": 3,
   "id": "a49063b5-f5b0-4bec-ae5b-b71a14ffaa05",
   "metadata": {},
   "outputs": [],
   "source": [
    "with open(\"myfile.txt\", \"w\") as file:\n",
    "    file.write(\"I want to become a Data Scientist\")"
   ]
  },
  {
   "cell_type": "code",
   "execution_count": 4,
   "id": "688457d5-1b19-4e0d-90a6-4711fe4b34c2",
   "metadata": {},
   "outputs": [
    {
     "name": "stdout",
     "output_type": "stream",
     "text": [
      "I want to become a Data Scientist\n"
     ]
    }
   ],
   "source": [
    "with open(\"myfile.txt\", \"r\") as file:\n",
    "    contents = file.read()\n",
    "    print(contents)"
   ]
  },
  {
   "cell_type": "markdown",
   "id": "2feb6437-4dd2-4770-97a5-781714e3462d",
   "metadata": {},
   "source": [
    "## 4.Explain the following with python code: read(), readline() and readlines()."
   ]
  },
  {
   "cell_type": "markdown",
   "id": "07bb7919-2c43-4fe6-af95-014b3fac314e",
   "metadata": {},
   "source": [
    "#### In Python, the read(), readline(), and readlines() methods are used to read the contents of a text file.\n",
    "\n",
    "    The read() method reads the entire contents of the file and returns it as a single string. Here's an example:"
   ]
  },
  {
   "cell_type": "code",
   "execution_count": 6,
   "id": "9fbd3545-efec-4c5b-a67c-f3ede48ad7f6",
   "metadata": {},
   "outputs": [
    {
     "name": "stdout",
     "output_type": "stream",
     "text": [
      "I want to become a Data Scientist\n"
     ]
    }
   ],
   "source": [
    "with open(\"myfile.txt\", \"r\") as file:\n",
    "    contents = file.read()\n",
    "    print(contents)"
   ]
  },
  {
   "cell_type": "markdown",
   "id": "bcc2f0a5-6138-431f-8678-780abac97abc",
   "metadata": {},
   "source": [
    "#### The readline() method reads a single line of the file and returns it as a string. Here's an example:"
   ]
  },
  {
   "cell_type": "code",
   "execution_count": 7,
   "id": "aedb5506-0dfd-418c-b1b4-1ff964dfd760",
   "metadata": {},
   "outputs": [
    {
     "name": "stdout",
     "output_type": "stream",
     "text": [
      "I want to become a Data Scientist\n"
     ]
    }
   ],
   "source": [
    "with open(\"myfile.txt\", \"r\") as file:\n",
    "    line = file.readline()\n",
    "    while line:\n",
    "        print(line)\n",
    "        line = file.readline()"
   ]
  },
  {
   "cell_type": "markdown",
   "id": "01cbf526-9deb-411f-b8c4-8c5611ecbd7b",
   "metadata": {},
   "source": [
    "#### The readlines() method reads the entire contents of the file and returns a list of strings, where each element of the list is a single line of the file. Here's an example:"
   ]
  },
  {
   "cell_type": "code",
   "execution_count": 8,
   "id": "e8cbb243-2f66-4ab3-ae88-b924609fe197",
   "metadata": {},
   "outputs": [
    {
     "name": "stdout",
     "output_type": "stream",
     "text": [
      "I want to become a Data Scientist\n"
     ]
    }
   ],
   "source": [
    "with open(\"myfile.txt\", \"r\") as file:\n",
    "    lines = file.readlines()\n",
    "    for line in lines:\n",
    "        print(line)"
   ]
  },
  {
   "cell_type": "markdown",
   "id": "afb141f0-b553-49c6-b6f1-130b3fa38b0f",
   "metadata": {},
   "source": [
    "#### These methods are useful for different use cases. For example, if you want to process the contents of a file line by line, readline() is more efficient than read() because it reads only one line at a time. On the other hand, if you want to perform some operation on the entire contents of a file, read() is more convenient than readlines() because it returns the contents as a single string."
   ]
  },
  {
   "cell_type": "markdown",
   "id": "3f6a42c9-d03e-474d-8b82-0b707a27a603",
   "metadata": {},
   "source": [
    "## 5.Explain why with statement is used with open(). What is the advantage of using with statement and open() together?"
   ]
  },
  {
   "cell_type": "markdown",
   "id": "3e16178a-7983-49b3-8f95-8e34a9246bc2",
   "metadata": {},
   "source": [
    "#### The with statement is often used in conjunction with the open() function to open and work with files in Python. The with statement provides a convenient and safe way to work with files, automatically closing the file when the block of code within the with statement is finished, even if an exception is raised.\n",
    "\n",
    "    Here's an example of how you might use the with statement and open() together:"
   ]
  },
  {
   "cell_type": "code",
   "execution_count": 10,
   "id": "9bc40f17-7416-4eb4-9007-4092b60382f6",
   "metadata": {},
   "outputs": [
    {
     "name": "stdout",
     "output_type": "stream",
     "text": [
      "I want to become a Data Scientist\n"
     ]
    }
   ],
   "source": [
    "with open(\"myfile.txt\", \"r\") as file:\n",
    "    contents = file.read()\n",
    "    print(contents)\n",
    "    "
   ]
  },
  {
   "cell_type": "markdown",
   "id": "2219a46e-832d-4b00-9df3-6218e57cfd62",
   "metadata": {},
   "source": [
    "#### In this example, the open() function is used to open the file \"myfile.txt\" for reading. The file is then automatically closed when the block of code within the with statement is finished."
   ]
  },
  {
   "cell_type": "markdown",
   "id": "7da907b3-82ff-4e36-9653-202e9f1dacce",
   "metadata": {},
   "source": [
    "#### The advantage of using the with statement and open() together is that it eliminates the need to manually close the file after you're finished with it. When you open a file, the operating system allocates memory and other resources to represent the file. If you don't close the file when you're finished with it, these resources will remain in use even though you no longer need them. Over time, this can lead to resource exhaustion and stability issues, especially if you're opening and closing many files in quick succession."
   ]
  },
  {
   "cell_type": "markdown",
   "id": "71f741fa-004a-4c29-97bb-1b5b3b939988",
   "metadata": {},
   "source": [
    "#### By using the with statement, you can ensure that the file is closed automatically, even if an exception is raised. This makes your code more robust and less prone to resource leaks, and also eliminates the need to remember to manually close the file at the end of your code."
   ]
  },
  {
   "cell_type": "markdown",
   "id": "22e2118e-ca32-4bd9-b38b-b0c30530014f",
   "metadata": {},
   "source": [
    "## 6.Explain the write() and writelines() functions. Give a suitable example."
   ]
  },
  {
   "cell_type": "markdown",
   "id": "46580188-d8fc-4b0d-83f1-9f7fd851de67",
   "metadata": {},
   "source": [
    "#### The write() and writelines() functions are used to write data to a text file in Python.\n",
    "\n",
    "    The write() function is used to write a string to a file. Here's an example:"
   ]
  },
  {
   "cell_type": "code",
   "execution_count": 13,
   "id": "24fb2dbb-666c-443b-9dac-8964936e70a3",
   "metadata": {},
   "outputs": [],
   "source": [
    "with open(\"myfile.txt\", \"w\") as file:\n",
    "    file.write(\"I want to become a Data Scientist\")"
   ]
  },
  {
   "cell_type": "markdown",
   "id": "6961ddd4-fdc9-4e69-97d8-bc7a87a635a0",
   "metadata": {},
   "source": [
    "#### In this example, the open() function is used to open the file \"myfile.txt\" for writing. The write() function is then used to write the string \"I want to become a Data Scientist\" to the file. The file is automatically closed when the block of code within the with statement is finished.\n",
    "\n",
    "     The writelines() function is used to write a list of strings to a file. Here's an example:"
   ]
  },
  {
   "cell_type": "code",
   "execution_count": 16,
   "id": "e018a671-47cb-4797-a259-d3c075c6d57f",
   "metadata": {},
   "outputs": [
    {
     "name": "stdout",
     "output_type": "stream",
     "text": [
      "['I want to become a Data Scientist', 'I love working with data']\n"
     ]
    }
   ],
   "source": [
    "lines = [\"I want to become a Data Scientist\", \"I love working with data\"]\n",
    "\n",
    "with open(\"myfile.txt\", \"w\") as file:\n",
    "    file.writelines(lines)\n",
    "    print(lines)"
   ]
  },
  {
   "cell_type": "markdown",
   "id": "b9f9823d-7dde-4097-a0b4-eaf3b86d3fb6",
   "metadata": {},
   "source": [
    "#### In this example, the open() function is used to open the file \"myfile.txt\" for writing. The writelines() function is then used to write a list of strings to the file. The file is automatically closed when the block of code within the with statement is finished."
   ]
  },
  {
   "cell_type": "code",
   "execution_count": null,
   "id": "a4ce8872-1bfb-4507-8166-9589e506c247",
   "metadata": {},
   "outputs": [],
   "source": []
  }
 ],
 "metadata": {
  "kernelspec": {
   "display_name": "Python 3 (ipykernel)",
   "language": "python",
   "name": "python3"
  },
  "language_info": {
   "codemirror_mode": {
    "name": "ipython",
    "version": 3
   },
   "file_extension": ".py",
   "mimetype": "text/x-python",
   "name": "python",
   "nbconvert_exporter": "python",
   "pygments_lexer": "ipython3",
   "version": "3.10.8"
  }
 },
 "nbformat": 4,
 "nbformat_minor": 5
}
