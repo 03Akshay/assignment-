{
 "cells": [
  {
   "cell_type": "markdown",
   "id": "0bd40153-3075-499d-856b-e9c451341e20",
   "metadata": {},
   "source": [
    "# Assignment"
   ]
  },
  {
   "cell_type": "markdown",
   "id": "f831d26b-b993-4ff1-891d-17dab97f6436",
   "metadata": {},
   "source": [
    "## 1.What is an Exception in python? Write the difference between Exception and Syntax errors."
   ]
  },
  {
   "cell_type": "markdown",
   "id": "3c231fd5-3c8e-49ca-a4ba-f6e86677ad94",
   "metadata": {},
   "source": [
    "### An Exception in Python is an event that occurs during program execution that disrupts the normal flow of program instructions. When an exception occurs, Python creates an Exception object and searches for a section of code called an exception handler that can handle the exception."
   ]
  },
  {
   "cell_type": "markdown",
   "id": "4af7b04e-3bae-4cf5-be61-dc0f776d51b7",
   "metadata": {},
   "source": [
    "### Syntax errors, on the other hand, occur when the syntax of the code is incorrect, causing the interpreter to be unable to parse the code. Syntax errors are detected by the interpreter during the compilation of the program and are raised before the program is executed."
   ]
  },
  {
   "cell_type": "markdown",
   "id": "8e865970-b077-4f73-bab5-652d9235f4df",
   "metadata": {},
   "source": [
    "### The main difference between Exception and Syntax errors is that Syntax errors are raised when there is a problem with the code structure, whereas Exceptions are raised when the program encounters a problem during execution, such as when it tries to access a non-existent file or when it attempts to divide by zero."
   ]
  },
  {
   "cell_type": "markdown",
   "id": "e32a928f-1234-4395-8253-228a8e3e1d73",
   "metadata": {},
   "source": [
    "## 2.What happens when an exception is not handled? Explain with an example."
   ]
  },
  {
   "cell_type": "markdown",
   "id": "29257699-f68a-4db9-a9e7-c47e036b170f",
   "metadata": {},
   "source": [
    "### When an exception is not handled, it propagates up the call stack until it reaches the top level of the program, causing the program to terminate and printing a traceback of the error message."
   ]
  },
  {
   "cell_type": "code",
   "execution_count": 2,
   "id": "11749389-bebc-41fc-89a3-c11b765add9b",
   "metadata": {},
   "outputs": [
    {
     "ename": "ZeroDivisionError",
     "evalue": "division by zero",
     "output_type": "error",
     "traceback": [
      "\u001b[0;31m---------------------------------------------------------------------------\u001b[0m",
      "\u001b[0;31mZeroDivisionError\u001b[0m                         Traceback (most recent call last)",
      "Cell \u001b[0;32mIn[2], line 8\u001b[0m\n\u001b[1;32m      5\u001b[0m \u001b[38;5;28;01mdef\u001b[39;00m \u001b[38;5;21mrun\u001b[39m():\n\u001b[1;32m      6\u001b[0m     divide_by_zero()\n\u001b[0;32m----> 8\u001b[0m \u001b[43mrun\u001b[49m\u001b[43m(\u001b[49m\u001b[43m)\u001b[49m\n",
      "Cell \u001b[0;32mIn[2], line 6\u001b[0m, in \u001b[0;36mrun\u001b[0;34m()\u001b[0m\n\u001b[1;32m      5\u001b[0m \u001b[38;5;28;01mdef\u001b[39;00m \u001b[38;5;21mrun\u001b[39m():\n\u001b[0;32m----> 6\u001b[0m     \u001b[43mdivide_by_zero\u001b[49m\u001b[43m(\u001b[49m\u001b[43m)\u001b[49m\n",
      "Cell \u001b[0;32mIn[2], line 3\u001b[0m, in \u001b[0;36mdivide_by_zero\u001b[0;34m()\u001b[0m\n\u001b[1;32m      2\u001b[0m \u001b[38;5;28;01mdef\u001b[39;00m \u001b[38;5;21mdivide_by_zero\u001b[39m():\n\u001b[0;32m----> 3\u001b[0m     \u001b[38;5;28;01mreturn\u001b[39;00m \u001b[38;5;241;43m1\u001b[39;49m\u001b[38;5;241;43m/\u001b[39;49m\u001b[38;5;241;43m0\u001b[39;49m\n",
      "\u001b[0;31mZeroDivisionError\u001b[0m: division by zero"
     ]
    }
   ],
   "source": [
    "#Here's an example that demonstrates what happens when an exception is not handled:\n",
    "def divide_by_zero():\n",
    "    return 1/0\n",
    "\n",
    "def run():\n",
    "    divide_by_zero()\n",
    "\n",
    "run()"
   ]
  },
  {
   "cell_type": "markdown",
   "id": "4e884dfc-9234-4a66-ae6c-db8b78e6bc6a",
   "metadata": {},
   "source": [
    "### In this example, the divide_by_zero function attempts to divide the number 1 by 0, which results in a ZeroDivisionError exception being raised. "
   ]
  },
  {
   "cell_type": "markdown",
   "id": "fc7f5d70-7102-444e-b612-0e9e76ce46f2",
   "metadata": {},
   "source": [
    "## 3.Which python statements are used to catch and exceptions? Explain with an example."
   ]
  },
  {
   "cell_type": "markdown",
   "id": "ba910566-9aa3-4419-b940-3a4fee470f6f",
   "metadata": {},
   "source": [
    "### In Python, the try and except statements are used to catch and handle exceptions.\n",
    "\n",
    "       The basic syntax for using try and except statements is as follows:"
   ]
  },
  {
   "cell_type": "markdown",
   "id": "d83e4bf9-8e16-4413-b3df-fd808ee2152a",
   "metadata": {},
   "source": [
    "### \n",
    "     try:\n",
    "         # code that might raise an exception\n",
    "     except ExceptionType:\n",
    "         # code to handle the exception"
   ]
  },
  {
   "cell_type": "markdown",
   "id": "f1514b82-6040-49a7-8111-d515b00b0221",
   "metadata": {},
   "source": [
    "### The try block contains the code that might raise an exception, and the except block contains the code that handles the exception if one occurs. If an exception occurs in the try block, Python looks for an except block that matches the type of exception that was raised. If a matching except block is found, the code inside the except block is executed to handle the exception.\n",
    "\n",
    "    Here's an example that demonstrates how to use try and except statements to catch and handle exceptions:"
   ]
  },
  {
   "cell_type": "code",
   "execution_count": 4,
   "id": "b635f511-7cc9-4a38-a25a-62c959d40aac",
   "metadata": {},
   "outputs": [
    {
     "name": "stdout",
     "output_type": "stream",
     "text": [
      "Result: 2.0\n",
      "Error: division by zero\n"
     ]
    }
   ],
   "source": [
    "def divide(x, y):\n",
    "    try:\n",
    "        result = x / y\n",
    "    except ZeroDivisionError:\n",
    "        print(\"Error: division by zero\")\n",
    "    else:\n",
    "        print(\"Result:\", result)\n",
    "\n",
    "divide(4, 2)   \n",
    "divide(4, 0)   "
   ]
  },
  {
   "cell_type": "markdown",
   "id": "5e7b661d-67c1-43bc-9acb-9102b6d64326",
   "metadata": {},
   "source": [
    "### \n",
    "    In this example, the divide function attempts to divide x by y, but it uses a try block to handle the case where y is equal to zero and a ZeroDivisionError exception is raised. If a ZeroDivisionError exception is raised, the except block is executed, which prints an error message. If no exception is raised, the else block is executed, which prints the result of the division. The output of the example shows that the function handles the exception correctly and continues to execute even if an exception is raised."
   ]
  },
  {
   "cell_type": "markdown",
   "id": "8332b2db-829d-443e-983a-173fbf683999",
   "metadata": {},
   "source": [
    "### 4. Explain with an example:\n",
    " \n",
    "      a) try and else\n",
    "      b) finally\n",
    "      c) raise"
   ]
  },
  {
   "cell_type": "markdown",
   "id": "62fa14f2-513a-4af4-8b27-374365e4570b",
   "metadata": {},
   "source": [
    "### a) try and else:\n",
    "     The else block in Python's try/except statements is optional and is executed if no exception is raised in the try block. "
   ]
  },
  {
   "cell_type": "code",
   "execution_count": 10,
   "id": "7e6bb4e2-9e08-48ff-b7a5-c764ef3e043e",
   "metadata": {},
   "outputs": [
    {
     "name": "stdout",
     "output_type": "stream",
     "text": [
      "Result: 5.0\n"
     ]
    }
   ],
   "source": [
    "try:\n",
    "    x = 10 / 2\n",
    "except ZeroDivisionError:\n",
    "    print(\"Cannot divide by zero\")\n",
    "else:\n",
    "    print(\"Result:\", x)"
   ]
  },
  {
   "cell_type": "markdown",
   "id": "4faba0fd-79a0-4344-a70d-77bd99861f90",
   "metadata": {},
   "source": [
    "### In this example, the try block tries to divide the number 10 by 2, which is a valid operation and doesn't raise a ZeroDivisionError. Therefore, the else block is executed, which prints the result of the division, \"Result: 5\"."
   ]
  },
  {
   "cell_type": "markdown",
   "id": "28c7ae76-608c-4900-92de-e749ac48ff1f",
   "metadata": {},
   "source": [
    "### b) finally:\n",
    "    The finally block in Python's try/except statements is also optional and is always executed, regardless of whether an exception was raised or not. "
   ]
  },
  {
   "cell_type": "code",
   "execution_count": 11,
   "id": "294cd57a-2444-4f40-a884-d072f12f082b",
   "metadata": {},
   "outputs": [],
   "source": [
    "try:\n",
    "    f = open(\"myfile.txt\")\n",
    "    data = f.read()\n",
    "finally:\n",
    "    f.close()"
   ]
  },
  {
   "cell_type": "markdown",
   "id": "bad3e297-447b-4c55-a3c7-0d8797f0c59a",
   "metadata": {},
   "source": [
    "### In this example, the try block tries to open a file and read its contents. The finally block ensures that the file is always closed, even if an exception was raised while reading the file."
   ]
  },
  {
   "cell_type": "markdown",
   "id": "5d1af94d-a3a7-4551-8119-8cc9ffcc42da",
   "metadata": {},
   "source": [
    "### c) raise:\n",
    "    The raise statement in Python is used to manually raise an exception."
   ]
  },
  {
   "cell_type": "code",
   "execution_count": 12,
   "id": "f30d55b3-cf8f-410c-ab9a-5c31e55fd186",
   "metadata": {},
   "outputs": [
    {
     "name": "stdout",
     "output_type": "stream",
     "text": [
      "Cannot divide by zero\n"
     ]
    }
   ],
   "source": [
    "def divide(x, y):\n",
    "    if y == 0:\n",
    "        raise ZeroDivisionError(\"Cannot divide by zero\")\n",
    "    return x / y\n",
    "\n",
    "try:\n",
    "    result = divide(10, 0)\n",
    "except ZeroDivisionError as e:\n",
    "    print(e)"
   ]
  },
  {
   "cell_type": "markdown",
   "id": "3b67179e-d1cd-4621-8ae4-ba11542387aa",
   "metadata": {},
   "source": [
    "#### In this example, the divide function raises a ZeroDivisionError exception if the y parameter is equal to 0. The try block calls the divide function with y = 0, which raises a ZeroDivisionError. The except block catches the exception and prints the error message \"Cannot divide by zero\"."
   ]
  },
  {
   "cell_type": "markdown",
   "id": "b388962d-1c72-47a9-8e6a-9be3ed36d11d",
   "metadata": {},
   "source": [
    "## 5.What are the Custom Exception in python? Why do we need custom exception.Explain with an example."
   ]
  },
  {
   "cell_type": "markdown",
   "id": "24791e51-562c-4fcc-a355-5e2987b8622f",
   "metadata": {},
   "source": [
    "###    \n",
    "      Custom exceptions in Python are user-defined exceptions that allow you to create your own exception types that can be raised in response to specific situations. They are useful when you want to raise an exception that is not covered by the built-in exception types or when you want to create more specific exception types for your application.\n",
    "\n",
    "     To define a custom exception in Python, you need to create a new class that inherits from the built-in Exception class or one of its subclasses."
   ]
  },
  {
   "cell_type": "markdown",
   "id": "07d45a30-8654-46e0-8661-e81c4492b1b0",
   "metadata": {},
   "source": [
    "### Custom exceptions can be useful when you want to provide more specific error messages to users of your code, or when you want to provide more information about the specific cause of an error. For example, if you were writing a library for working with a specific API and the API returned a specific error code, you could define a custom exception for that error code to make it easier for users of your library to handle that error."
   ]
  },
  {
   "cell_type": "code",
   "execution_count": null,
   "id": "e2ba8109-49f9-4fcb-807e-9ffce351a7d0",
   "metadata": {},
   "outputs": [],
   "source": [
    "class APICallError(Exception):\n",
    "    def __init__(self, code, message):\n",
    "        self.code = code\n",
    "        self.message = message\n",
    "\n",
    "try:\n",
    "    # make API call\n",
    "    response = make_api_call()\n",
    "    if response.status_code != 200:\n",
    "        raise APICallError(response.status_code, response.text)\n",
    "except APICallError as e:\n",
    "    print(f\"API call failed with error code {e.code}: {e.message}\")"
   ]
  },
  {
   "cell_type": "markdown",
   "id": "d1848115-181b-4567-b280-3c75b54f3e63",
   "metadata": {},
   "source": [
    "## 6.Create a custom Exception class and use this class to handle an exception."
   ]
  },
  {
   "cell_type": "code",
   "execution_count": 17,
   "id": "689e1ec7-b700-45e1-bb33-bb13a6e707a5",
   "metadata": {},
   "outputs": [
    {
     "name": "stdout",
     "output_type": "stream",
     "text": [
      "MyException was raised: Something went wrong!\n"
     ]
    }
   ],
   "source": [
    "class MyException(Exception):\n",
    "    pass\n",
    "\n",
    "try:\n",
    "    # Some code that might raise an exception\n",
    "    raise MyException(\"Something went wrong!\")\n",
    "except MyException as e:\n",
    "    print(\"MyException was raised:\", e)"
   ]
  },
  {
   "cell_type": "markdown",
   "id": "374aad11-1d56-4636-9ec9-6d36616e9730",
   "metadata": {
    "tags": []
   },
   "source": [
    "###  \n",
    "    In this example, the MyException class is defined by inheriting from the built-in Exception class. We also define an empty pass statement to indicate that this class does not have any additional functionality beyond what is provided by Exception.\n",
    "\n",
    "     We then use a try-except block to catch any MyException that might be raised. If an exception of type MyException is raised within the try block, the program will jump directly to the except block and the error message will be printed.\n",
    "\n",
    "    You can customize the behavior of the MyException class by adding additional methods or attributes, and you can raise the exception from any part of your code where an error occurs that you want to handle in a special way.\n",
    "\n",
    "\n",
    "\n"
   ]
  },
  {
   "cell_type": "code",
   "execution_count": null,
   "id": "9e5b4669-f729-45da-956b-3d62d943e7c7",
   "metadata": {},
   "outputs": [],
   "source": []
  }
 ],
 "metadata": {
  "kernelspec": {
   "display_name": "Python 3 (ipykernel)",
   "language": "python",
   "name": "python3"
  },
  "language_info": {
   "codemirror_mode": {
    "name": "ipython",
    "version": 3
   },
   "file_extension": ".py",
   "mimetype": "text/x-python",
   "name": "python",
   "nbconvert_exporter": "python",
   "pygments_lexer": "ipython3",
   "version": "3.10.8"
  }
 },
 "nbformat": 4,
 "nbformat_minor": 5
}
