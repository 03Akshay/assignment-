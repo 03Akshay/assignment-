{
 "cells": [
  {
   "cell_type": "markdown",
   "id": "db2e71bf-545f-4b76-a2bd-e83e59882687",
   "metadata": {},
   "source": [
    "# Assignment"
   ]
  },
  {
   "cell_type": "markdown",
   "id": "e86bfd85-7f28-4e1a-a29e-c64e2837d8e1",
   "metadata": {},
   "source": [
    "### 1.What are the characteristics of the tuples? Is tuple immutable."
   ]
  },
  {
   "cell_type": "markdown",
   "id": "de0336a2-8bb4-47a1-b1e4-eb624b5313cb",
   "metadata": {},
   "source": [
    "### Tuple:\n",
    "        A tuple is an ordered sequence of elements of same or differnet data types, such as integer, float, string, list or even a tuple. Elements of a tuple are enclosed in parenthesis(round brackets) and are seperated by commas.   "
   ]
  },
  {
   "cell_type": "markdown",
   "id": "4e440a11-a999-4aef-8d30-eba35d18a897",
   "metadata": {},
   "source": [
    "### Characteristics of tuples:\n"
   ]
  },
  {
   "cell_type": "markdown",
   "id": "3b2daf4a-dba5-434b-950f-d754ac877f1c",
   "metadata": {},
   "source": [
    "#### The Characteristics of tuples are:\n",
    "\n",
    "1. Tuples are ordered, indexed collections of data. Similar to string indices, the first value in the tuple with have the index[0], the second value[1], and so on.\n",
    "\n",
    "2. Tuples can store duplicate values\n",
    "\n",
    "3. Once data is assigned to a tuple, the values cannot be changed.\n",
    "\n",
    "4. Tuples allow you to store several data items in one variable. You can choose to store only one kind of data in a tuple or mix it up as needed."
   ]
  },
  {
   "cell_type": "markdown",
   "id": "afc2c8f3-2105-48a8-9062-efb00138b37b",
   "metadata": {},
   "source": [
    "#### YES, the tuples are immutable."
   ]
  },
  {
   "cell_type": "markdown",
   "id": "a1cb7972-1e42-45b7-9156-dc54aea98acf",
   "metadata": {},
   "source": [
    "#### 2.What are the two tuple methods in python? Give an example of each method. Give a reason why tuples have only two  in-built methods as compared to lists."
   ]
  },
  {
   "cell_type": "markdown",
   "id": "69781db3-72c7-4f2d-b9e3-ff43206d5f57",
   "metadata": {},
   "source": [
    "### The two tuple methods in python are:\n",
    "\n",
    "1. count() method.\n",
    "2. index() method.\n",
    "\n",
    "1. count() method: The count() method returns the number of times a specified value appears in the tuple.\n",
    "\n",
    "   Syntax:  tuple.count(value)\n",
    "   \n",
    "2. index() method: The index() method finds the first occurrence of the specified value and this method raises an                          exception if the value is not found\n",
    "\n",
    "   Syntax:  tuple.index(value)"
   ]
  },
  {
   "cell_type": "code",
   "execution_count": 1,
   "id": "faf3994c-715a-4a8f-bd63-978dddc56002",
   "metadata": {},
   "outputs": [
    {
     "name": "stdout",
     "output_type": "stream",
     "text": [
      "2\n"
     ]
    }
   ],
   "source": [
    "# example for the count() method \n",
    "tuple1=(1,3,7,8,7,5,4,6,8,5)\n",
    "x=tuple1.count(5)\n",
    "print(x)"
   ]
  },
  {
   "cell_type": "code",
   "execution_count": 2,
   "id": "2d8009d6-66e6-4f38-b8d9-ce7c2a02f69f",
   "metadata": {},
   "outputs": [
    {
     "name": "stdout",
     "output_type": "stream",
     "text": [
      "3\n"
     ]
    }
   ],
   "source": [
    "# example for the index() method\n",
    "tuple2=(1,3,7,8,7,5,4,6,8,5)\n",
    "x=tuple2.index(8)\n",
    "print(x)"
   ]
  },
  {
   "cell_type": "markdown",
   "id": "a531530d-aba6-4f0d-be7b-ca9bf84c6642",
   "metadata": {},
   "source": [
    "#### Tuples have only two built-in methods because tuples are more memory efficient than the lists and tuples are             immutable that we can't make any changes once declared the tuple."
   ]
  },
  {
   "cell_type": "markdown",
   "id": "4a90556d-5c10-4daf-8ff2-c3c4ab8795e8",
   "metadata": {},
   "source": [
    "#### 3.Which collection datatypes in python do not allow duplicate items? Write a code using a set to remove duplicates         from the given list.\n",
    "         List=[1,1,1,2,1,3,1,4,2,1,2,2,2,3,2,4,3,1,3,2,3,3,3,4,4,1,4,2,4,3,4,4]"
   ]
  },
  {
   "cell_type": "markdown",
   "id": "b3b8a10d-0b18-4d56-9a58-76fb5bcc8fae",
   "metadata": {},
   "source": [
    "#### The \"set\" datatype in python do not allow duplicate items.\n"
   ]
  },
  {
   "cell_type": "code",
   "execution_count": 5,
   "id": "be46d220-0fd1-402d-a860-63affa8c8e08",
   "metadata": {},
   "outputs": [
    {
     "name": "stdout",
     "output_type": "stream",
     "text": [
      "[1, 2, 3, 4]\n"
     ]
    }
   ],
   "source": [
    "#removing the duplicate elements from the list\n",
    "List=[1,1,1,2,1,3,1,4,2,1,2,2,2,3,2,4,3,1,3,2,2,2,2,4,4,1,4,2,3,4,4]\n",
    "elements=[*set(List)]\n",
    "print(elements)"
   ]
  },
  {
   "cell_type": "markdown",
   "id": "78d0b81f-71a4-4a02-806d-2e0bdbd20b5c",
   "metadata": {},
   "source": [
    "### 4.Explain the difference between the union() and update() methods for a set. Give an example of each method."
   ]
  },
  {
   "cell_type": "markdown",
   "id": "c7b287f8-bec8-4554-bf09-13c1112312d0",
   "metadata": {},
   "source": [
    "### union() method:\n",
    "                The union() method returns a set that contains all items from the original set, and all items from the specified set. You can sepcify as many sets you want, separated by commas. It does not have to be a set, it can be any iterabel object.\n",
    "                If an item is present in more than one set, the result will contain only one appearance of this item.\n",
    "                \n",
    "      Syntax:  set.union(set1, set2,....)"
   ]
  },
  {
   "cell_type": "code",
   "execution_count": null,
   "id": "7c45404c-eade-4233-9ec7-aa445d84541a",
   "metadata": {},
   "outputs": [],
   "source": [
    "#example of the union() method for a set\n",
    "x={\"pwskills\",\"datascience\"}\n",
    "y={\"PWSKILLS 1\",\"DATASCIENCE 1\"}\n",
    "z=x.union(y)\n",
    "print(z)"
   ]
  },
  {
   "cell_type": "markdown",
   "id": "264e18b5-d451-44b2-b50a-340ce0dfd5f8",
   "metadata": {},
   "source": [
    "### update() method:\n",
    "    \n",
    "                 The update() method updates the current set, by adding items from another set(or any other iterable). If an item is present in both sets, only one appearance of this item will be present in the updated set.\n",
    "                 \n",
    "        Syntax:   set.update(set)"
   ]
  },
  {
   "cell_type": "code",
   "execution_count": 12,
   "id": "dda25ca2-a112-4e53-88cb-2e94f4149ec9",
   "metadata": {},
   "outputs": [
    {
     "name": "stdout",
     "output_type": "stream",
     "text": [
      "{1, 2, 3, 5, 7}\n"
     ]
    }
   ],
   "source": [
    "#example of the update() method for a set\n",
    "x={1,2,3}\n",
    "y={2,3,5,7}\n",
    "x.update(y)\n",
    "print(x)"
   ]
  },
  {
   "cell_type": "markdown",
   "id": "03f2447d-5cee-47ba-8f36-b46a991bfdf9",
   "metadata": {},
   "source": [
    "### 5.What is dictionary? Give an example.Also, state whether a dictionay is ordered or unordered."
   ]
  },
  {
   "cell_type": "markdown",
   "id": "19d6e3f0-5dab-4fd8-a9d5-eb2ad222644d",
   "metadata": {},
   "source": [
    "### Dictionary:\n",
    "            The dictionary is an unordered collection that contains key:value pairs separated by commas inside curly brackets. Each key-value pair in the dictionary maps the key to its associated value making it more optimized. A dictionary in python is declaredd by enclosing a comma seperated list of key-value pairs using curly braces{}. Eacj key is separated from its value by a colon(:), while commas seperate each element.\n",
    "           Dictionary is classified into two elements: keys and values\n",
    "           -> Keys will be a single element.\n",
    "           -> Values can be a list or list within a list, numbers, etc..\n",
    "            "
   ]
  },
  {
   "cell_type": "code",
   "execution_count": 13,
   "id": "387d2587-61d3-40e7-9304-aa542a054328",
   "metadata": {},
   "outputs": [
    {
     "name": "stdout",
     "output_type": "stream",
     "text": [
      "{'name': 'Rudra', 'age': 26, 'sex': 'male'}\n"
     ]
    }
   ],
   "source": [
    "dict1={\"name\":\"Rudra\",\"age\":26,\"sex\":\"male\"}\n",
    "print(dict1)"
   ]
  },
  {
   "cell_type": "code",
   "execution_count": 14,
   "id": "72b91506-b7b9-449d-aa52-ff563fa8a286",
   "metadata": {},
   "outputs": [
    {
     "name": "stdout",
     "output_type": "stream",
     "text": [
      "{'city1': 'Hyderabad', 'city2': 'Bangalore', 'city3': 'Mumbai'}\n"
     ]
    }
   ],
   "source": [
    "dict2={\"city1\":\"Hyderabad\",\"city2\":\"Bangalore\",\"city3\":\"Mumbai\"}\n",
    "print(dict2)"
   ]
  },
  {
   "cell_type": "markdown",
   "id": "41edf654-bbe6-4926-9210-4683915affb1",
   "metadata": {},
   "source": [
    "#### Dictionary is unordered collection."
   ]
  },
  {
   "cell_type": "markdown",
   "id": "675398f1-0ede-4a39-8a29-e966dfa830b0",
   "metadata": {},
   "source": [
    "## 6.Can we create a nested dictionary? If so, please give an example by creating a simple one-level nested dictionary."
   ]
  },
  {
   "cell_type": "markdown",
   "id": "0ee1704d-1840-4e74-90ab-69078d0789bf",
   "metadata": {},
   "source": [
    "#### YES, we can create a nested dictionary. A nested dictionary is a dictionary inside a dictionary. It's a collection of dictionaries into one single dictionary."
   ]
  },
  {
   "cell_type": "code",
   "execution_count": 19,
   "id": "725cf4d2-a33b-45a1-96ca-afea9f35aabf",
   "metadata": {},
   "outputs": [
    {
     "name": "stdout",
     "output_type": "stream",
     "text": [
      "{'dictA': {'key_1': 'value_1'}, 'dictB': {'key_2': 'value_2'}}\n"
     ]
    }
   ],
   "source": [
    "#example for creating a simple one-level nested dictionary\n",
    "nested_dict={\"dictA\":{\"key_1\": \"value_1\"},\"dictB\":{\"key_2\": \"value_2\"}}\n",
    "print(nested_dict)"
   ]
  },
  {
   "cell_type": "markdown",
   "id": "87dacf78-10c6-4fc2-a3df-ec868c05b4d7",
   "metadata": {},
   "source": [
    "### 7.Using setdefault() method, create key named topics in the given dictionary and also add the values of the key as this list [\"Python\",\"course\",\"Deep Learning\"]\n",
    "   dict1={\"language\":\"Python\",\"course\":\"Data Science Masters\"}"
   ]
  },
  {
   "cell_type": "code",
   "execution_count": 30,
   "id": "38fe83c3-756b-4174-8257-f4dc1cb76461",
   "metadata": {},
   "outputs": [
    {
     "name": "stdout",
     "output_type": "stream",
     "text": [
      "{'language': 'Python', 'course': 'Data Science Masters', 'topics': ['Python', 'course', 'Deep Learning']}\n"
     ]
    }
   ],
   "source": [
    "dict1={\"language\":\"Python\",\"course\":\"Data Science Masters\"}\n",
    "dict1.setdefault(\"topics\")\n",
    "dict1.update({\"topics\":[\"Python\",\"course\",\"Deep Learning\"]})\n",
    "print(dict1)"
   ]
  },
  {
   "cell_type": "markdown",
   "id": "bbed02a9-c377-4301-b9ba-f69908b42fc9",
   "metadata": {},
   "source": [
    "### 8.What are the three view objects in dictionaries? Use the three in-built methods in python to display these three view objects for the given dictionary.\n",
    "\n",
    "dict1={\"sport\":\"Cricket\",\"Teams\":[\"India\",\"Australia\",\"England\",\"South Africa\",\"Sri Lanka\",New Zealand\"]}"
   ]
  },
  {
   "cell_type": "markdown",
   "id": "7a8938b7-568c-43bb-9571-b79323199c64",
   "metadata": {},
   "source": [
    "### The main view objects of dictionary in python are keys, values and items."
   ]
  },
  {
   "cell_type": "code",
   "execution_count": 32,
   "id": "e2a6c5c2-8cf6-4647-a309-97dd94f3f084",
   "metadata": {},
   "outputs": [
    {
     "name": "stdout",
     "output_type": "stream",
     "text": [
      "dict_keys(['sport', 'Teams'])\n",
      "dict_values(['Cricket', ['India', 'Australia', 'England', 'South Africa', 'Sri Lanka', 'New Zealand']])\n",
      "dict_items([('sport', 'Cricket'), ('Teams', ['India', 'Australia', 'England', 'South Africa', 'Sri Lanka', 'New Zealand'])])\n"
     ]
    }
   ],
   "source": [
    "#to display the the three view objects for the given dictionary\n",
    "dict1={\"sport\":\"Cricket\",\"Teams\":[\"India\",\"Australia\",\"England\",\"South Africa\",\"Sri Lanka\",\"New Zealand\"]}\n",
    "keys=dict1.keys()\n",
    "values=dict1.values()\n",
    "items=dict1.items()\n",
    "print(keys)\n",
    "print(values)\n",
    "print(items)"
   ]
  }
 ],
 "metadata": {
  "kernelspec": {
   "display_name": "Python 3 (ipykernel)",
   "language": "python",
   "name": "python3"
  },
  "language_info": {
   "codemirror_mode": {
    "name": "ipython",
    "version": 3
   },
   "file_extension": ".py",
   "mimetype": "text/x-python",
   "name": "python",
   "nbconvert_exporter": "python",
   "pygments_lexer": "ipython3",
   "version": "3.10.8"
  }
 },
 "nbformat": 4,
 "nbformat_minor": 5
}
