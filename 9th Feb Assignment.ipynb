{
 "cells": [
  {
   "cell_type": "markdown",
   "id": "d5c7ead3-befd-49ad-a1c2-f30834192e86",
   "metadata": {},
   "source": [
    "# Assignment\n"
   ]
  },
  {
   "cell_type": "markdown",
   "id": "8b10dee3-d8f2-4884-80bf-1598bcd4994e",
   "metadata": {},
   "source": [
    "### 1.Create a vehicle class with an init method having instance variables as name_of_vehicle, max_speed and average_of_vehicle."
   ]
  },
  {
   "cell_type": "code",
   "execution_count": 6,
   "id": "f746f659-1d93-4723-9ade-8a856dcbdb04",
   "metadata": {},
   "outputs": [],
   "source": [
    "class vechile:\n",
    "    def __init__(self, name_of_vehicle,max_speed, average_of_vehicle):\n",
    "      \n",
    "        self.name_of_vehicle=name_of_vehicle\n",
    "        self.max_speed=max_speed\n",
    "        self.average_of_vehicle=average_of_vehicle"
   ]
  },
  {
   "cell_type": "markdown",
   "id": "6d3f94fd-2ab9-493d-b489-9a359001b622",
   "metadata": {},
   "source": [
    "### 2.Create a child class car from the vehicle class created in Que 1, which will inherit the vehicle class. Create a method named seating_capacity which takes capacity as an argument and returns the name of the vehicle and its seating capacity."
   ]
  },
  {
   "cell_type": "code",
   "execution_count": 32,
   "id": "5ac29e61-05f2-4c5a-b381-23e66958cb9c",
   "metadata": {},
   "outputs": [
    {
     "name": "stdout",
     "output_type": "stream",
     "text": [
      "Thar has a seating capacity of 5.\n"
     ]
    }
   ],
   "source": [
    " class Vehicle:\n",
    "    def __init__(self, name_of_the_vehicle):\n",
    "        self.name_of_the_vehicle = name_of_the_vehicle\n",
    "  \n",
    " class Car(Vehicle):\n",
    "    def __init__(self, name_of_the_vehicle ,capacity):\n",
    "        self.name_of_the_vehicle=name_of_the_vehicle\n",
    "        self.capacity = capacity\n",
    "\n",
    "    def seating_capacity(self):\n",
    "        return f\"{self.name_of_the_vehicle} has a seating capacity of {self.capacity}.\"\n",
    "    \n",
    "my_car = Car(\"Thar\", 5)\n",
    "print(my_car.seating_capacity())"
   ]
  },
  {
   "cell_type": "code",
   "execution_count": 30,
   "id": "856b3935-80dd-4b3b-af58-98f5b8b820d7",
   "metadata": {},
   "outputs": [
    {
     "name": "stdout",
     "output_type": "stream",
     "text": [
      "Thar has a seating capacity of 5.\n"
     ]
    }
   ],
   "source": [
    "# we can use the super() function in above example\n",
    "class Vehicle:\n",
    "    def __init__(self, name_of_the_vehicle):\n",
    "        self.name_of_the_vehicle = name_of_the_vehicle\n",
    "\n",
    "class Car(Vehicle):\n",
    "    def __init__(self, name_of_the_vehicle, capacity):\n",
    "        super().__init__(name_of_the_vehicle)\n",
    "        self.capacity = capacity\n",
    "\n",
    "    def seating_capacity(self):\n",
    "        return f\"{self.name_of_the_vehicle} has a seating capacity of {self.capacity}.\"\n",
    "\n",
    "my_car = Car(\"Thar\", 5)\n",
    "print(my_car.seating_capacity())"
   ]
  },
  {
   "cell_type": "markdown",
   "id": "b1ccd9bc-0bce-4e2a-b76c-5f459869316c",
   "metadata": {},
   "source": [
    "### 3.What is multiple inheritance? Write a python code to demonstrate multiple inheritance."
   ]
  },
  {
   "cell_type": "markdown",
   "id": "a3d89fae-e94a-4126-9ed6-af9a8f1910ca",
   "metadata": {},
   "source": [
    "####\n",
    "         Multiple inheritance is a feature in object-oriented programming (OOP) that allows a class to inherit properties and behaviors from more than one parent class. In multiple inheritance, a derived class is created by inheriting properties and behaviors from multiple base classes, rather than just one base class as in single inheritance. This means that the derived class can inherit attributes, methods, and behaviors from multiple parent classes and can have a more complex and richer inheritance hierarchy. \n",
    "         \n",
    "         \n",
    "        Multiple inheritance can be useful for creating more flexible and reusable code, as well as for modeling complex real-world relationships between objects. However, it can also lead to ambiguity and conflicts, particularly when the same property or method is defined in multiple parent classes, so its use should be carefully considered and properly managed."
   ]
  },
  {
   "cell_type": "code",
   "execution_count": 36,
   "id": "a826f705-95c5-4cf2-acf4-d5f0aaf7de67",
   "metadata": {},
   "outputs": [
    {
     "name": "stdout",
     "output_type": "stream",
     "text": [
      "Parent1 method1\n",
      "Parent2 method2\n"
     ]
    }
   ],
   "source": [
    "class parent1:\n",
    "    def method1(self):\n",
    "        print(\"Parent1 method1\")\n",
    "        \n",
    "class parent2:\n",
    "    def method2(self):\n",
    "        print(\"Parent2 method2\")\n",
    "        \n",
    "class child(parent1, parent2):\n",
    "    pass\n",
    "\n",
    "# create an object of Child class\n",
    "c = child()\n",
    "\n",
    "# call method1 from Parent1\n",
    "c.method1()\n",
    "\n",
    "# call method2 from Parent2\n",
    "c.method2()"
   ]
  },
  {
   "cell_type": "markdown",
   "id": "5927a9f4-0ab8-471b-9209-0e4233bdeb5b",
   "metadata": {},
   "source": [
    "### 4.What are getter and setter in python? Create a class and create a getter and a setter method in this class."
   ]
  },
  {
   "cell_type": "markdown",
   "id": "06a331b2-180c-49dd-af4a-f3cd67f943a3",
   "metadata": {},
   "source": [
    "####\n",
    "    In Python, getters and setters are methods used to access and set the values of an object's properties, respectively. They allow you to control access to the properties and validate the values being assigned to them.\n",
    "\n",
    "    A getter method is used to retrieve the value of a property and is defined using the \"@property decorator\" and a method with no arguments. The method should return the value of the property that it is accessing.\n",
    "\n",
    "    A setter method is used to set the value of a property and is defined using the \"@property_name.setter decorator\", where property_name is the name of the property. The setter method should take one argument, which represents the new value being assigned to the property."
   ]
  },
  {
   "cell_type": "code",
   "execution_count": 38,
   "id": "ce5fc100-9c40-4359-9a9d-5d0ddb527c21",
   "metadata": {},
   "outputs": [],
   "source": [
    "#example for the getter and setter methods\n",
    "class person:\n",
    "    def __init__(self, name, age):\n",
    "        self._name = name\n",
    "        self._age = age\n",
    "\n",
    "    @property\n",
    "    def name(self):\n",
    "        return self._name\n",
    "\n",
    "    @name.setter\n",
    "    def name(self, name):\n",
    "        self._name = name\n",
    "\n",
    "    @property\n",
    "    def age(self):\n",
    "        return self._age\n",
    "\n",
    "    @age.setter\n",
    "    def age(self, age):\n",
    "        self._age = age"
   ]
  },
  {
   "cell_type": "code",
   "execution_count": 39,
   "id": "009f635e-4cf1-46d9-a270-fd155d4101be",
   "metadata": {},
   "outputs": [
    {
     "name": "stdout",
     "output_type": "stream",
     "text": [
      "Rudra\n"
     ]
    }
   ],
   "source": [
    "person=person(\"Rudra\",26)\n",
    "print(person.name)"
   ]
  },
  {
   "cell_type": "code",
   "execution_count": 40,
   "id": "ed62cdf1-2e83-4a42-9134-db40f45b3abc",
   "metadata": {},
   "outputs": [
    {
     "name": "stdout",
     "output_type": "stream",
     "text": [
      "26\n"
     ]
    }
   ],
   "source": [
    "print(person.age)"
   ]
  },
  {
   "cell_type": "code",
   "execution_count": 43,
   "id": "7bb5e038-5986-447f-a828-d1cf7e3ef373",
   "metadata": {},
   "outputs": [
    {
     "name": "stdout",
     "output_type": "stream",
     "text": [
      "Devi 36\n"
     ]
    }
   ],
   "source": [
    "person.name=\"Devi\"\n",
    "person.age=36\n",
    "print(person.name,person.age)"
   ]
  },
  {
   "cell_type": "markdown",
   "id": "ba68dcfd-6c70-48e7-86dd-00de1cc059c8",
   "metadata": {},
   "source": [
    "### 5.What is method overriding in python? Write a python code to demonstrate method overriding."
   ]
  },
  {
   "cell_type": "markdown",
   "id": "7ca9cb62-dd0b-4474-b865-71d006f553c1",
   "metadata": {},
   "source": [
    "###\n",
    "     Method overriding is a feature in object-oriented programming that allows a subclass to provide a new implementation for a method defined in its superclass. The new implementation in the subclass \"overrides\" the original implementation in the superclass.\n",
    "\n",
    "    When a method is overridden, the subclass can choose to keep the original behavior of the method or provide a new implementation. The new implementation can either extend or modify the original behavior."
   ]
  },
  {
   "cell_type": "code",
   "execution_count": 61,
   "id": "6a5ab5db-d858-4acd-afb9-a39cad10075d",
   "metadata": {},
   "outputs": [],
   "source": [
    "#python code for method of overriding.\n",
    "class animal:\n",
    "    def make_sound(self):\n",
    "        print(\"Animal is making a sound\")\n",
    "\n",
    "class dog(animal):\n",
    "    def make_sound(self):\n",
    "        print(\"bow! bow!\")\n",
    "\n",
    "class cat(animal):\n",
    "    def make_sound(self):\n",
    "        print(\"Meow! Meow!\")"
   ]
  },
  {
   "cell_type": "code",
   "execution_count": 62,
   "id": "8ac25a03-da56-4e4d-94d9-46105fdd6bc2",
   "metadata": {},
   "outputs": [
    {
     "name": "stdout",
     "output_type": "stream",
     "text": [
      "bow! bow!\n"
     ]
    }
   ],
   "source": [
    "dog = dog()\n",
    "dog.make_sound()"
   ]
  },
  {
   "cell_type": "code",
   "execution_count": 63,
   "id": "0437e116-f4d1-4644-b9f7-5a09989b9fae",
   "metadata": {},
   "outputs": [
    {
     "name": "stdout",
     "output_type": "stream",
     "text": [
      "Meow! Meow!\n"
     ]
    }
   ],
   "source": [
    "cat = cat()\n",
    "cat.make_sound()"
   ]
  },
  {
   "cell_type": "code",
   "execution_count": null,
   "id": "3d7751cf-0abf-4a35-9317-5f3de2cb297b",
   "metadata": {},
   "outputs": [],
   "source": []
  }
 ],
 "metadata": {
  "kernelspec": {
   "display_name": "Python 3 (ipykernel)",
   "language": "python",
   "name": "python3"
  },
  "language_info": {
   "codemirror_mode": {
    "name": "ipython",
    "version": 3
   },
   "file_extension": ".py",
   "mimetype": "text/x-python",
   "name": "python",
   "nbconvert_exporter": "python",
   "pygments_lexer": "ipython3",
   "version": "3.10.8"
  }
 },
 "nbformat": 4,
 "nbformat_minor": 5
}
