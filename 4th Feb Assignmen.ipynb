{
 "cells": [
  {
   "cell_type": "markdown",
   "id": "6534aa37-2fb7-45dc-854b-787f64e6c7b5",
   "metadata": {},
   "source": [
    "# Assignment"
   ]
  },
  {
   "cell_type": "markdown",
   "id": "3e6b7a4c-1406-48ab-9e01-fd7b9d5652db",
   "metadata": {},
   "source": [
    "### 1.Create a python program to sort the given list of tuples based on integer value using a lamda function.\n",
    "[('Sachin Tendulkar',34357),('Ricky Pointing',27483),('Jack Kallis',25534),('Virat Kohli',24936)]"
   ]
  },
  {
   "cell_type": "code",
   "execution_count": 6,
   "id": "8d15c016-5208-4ec7-aa4b-4ba42d7d2b58",
   "metadata": {},
   "outputs": [
    {
     "name": "stdout",
     "output_type": "stream",
     "text": [
      "original stats before sorting:\n",
      "[('Sachin Tendulkar', 34537), ('Ricky Pointing', 27483), ('Jack Kallis', 25534), ('Virat Kohli', 24936)]\n",
      "After sorting the stats:\n",
      "[('Virat Kohli', 24936), ('Jack Kallis', 25534), ('Ricky Pointing', 27483), ('Sachin Tendulkar', 34537)]\n"
     ]
    }
   ],
   "source": [
    "#program to sort the given list of tuples bases on integer value using lamda function.\n",
    "stats=[('Sachin Tendulkar',34537),('Ricky Pointing',27483),('Jack Kallis',25534),('Virat Kohli',24936)]\n",
    "print(\"original stats before sorting:\")\n",
    "print(stats)\n",
    "stats.sort(key=lambda x: x[1])\n",
    "print(\"After sorting the stats:\")\n",
    "print(stats)"
   ]
  },
  {
   "cell_type": "markdown",
   "id": "40f38631-57a7-4073-a188-1cc50d0fcae5",
   "metadata": {},
   "source": [
    "### 2.Write a Python Program to find the squares of all the numbers in the given list of integers using the lambda and map functions.\n",
    "[1,2,3,4,5,6,7,8,9,10]\n",
    "    "
   ]
  },
  {
   "cell_type": "code",
   "execution_count": 9,
   "id": "96137683-8e77-4788-b210-c07c773051b7",
   "metadata": {},
   "outputs": [
    {
     "name": "stdout",
     "output_type": "stream",
     "text": [
      "Original list of integers:\n",
      "[1, 2, 3, 4, 5, 6, 7, 8, 9, 10]\n",
      "Square every number of the said list:\n",
      "[1, 4, 9, 16, 25, 36, 49, 64, 81, 100]\n"
     ]
    }
   ],
   "source": [
    "#program to fnd the square of all given list using lambda and map functions\n",
    "nums=[1,2,3,4,5,6,7,8,9,10]\n",
    "print(\"Original list of integers:\")\n",
    "print(nums)\n",
    "print(\"Square every number of the said list:\")\n",
    "square_nums=list(map(lambda x: x**2,nums))\n",
    "print(square_nums)"
   ]
  },
  {
   "cell_type": "markdown",
   "id": "3f482ce2-b5df-4fc9-8f55-67216b6f5f56",
   "metadata": {},
   "source": [
    "### 3.Write a python program to convert the given list of integers into a tuple of strings. Use map and lambda functions.\n",
    "\n",
    "     Given string:[1,2,3,4,5,6,7,8,9,10]\n",
    "     Expected output:['1','2','3','4','5','6','7','8','9','10']"
   ]
  },
  {
   "cell_type": "code",
   "execution_count": 12,
   "id": "9c2c569a-e55e-4181-813b-13b5c3ead203",
   "metadata": {},
   "outputs": [
    {
     "name": "stdout",
     "output_type": "stream",
     "text": [
      "original list of integers\n",
      "[1, 2, 3, 4, 5, 6, 7, 8, 9, 10]\n",
      "After conversion\n",
      "['1', '2', '3', '4', '5', '6', '7', '8', '9', '10']\n"
     ]
    }
   ],
   "source": [
    "#conversion of list of integers to a tuple of strings.\n",
    "list1=[1,2,3,4,5,6,7,8,9,10]\n",
    "print(\"original list of integers\")\n",
    "print(list1)\n",
    "print(\"After conversion\")\n",
    "result_list=list(map(str,list1))\n",
    "print(result_list)"
   ]
  },
  {
   "cell_type": "markdown",
   "id": "ef4a63a7-0aa2-49bb-bf1c-af3cfcd239b2",
   "metadata": {},
   "source": [
    "### 4.Write a python program using reduce function to compute the product of a list containing numbers from 1 to 25."
   ]
  },
  {
   "cell_type": "code",
   "execution_count": 28,
   "id": "bc3b7a78-f20d-44ef-af69-fc7452c2268c",
   "metadata": {},
   "outputs": [
    {
     "name": "stdout",
     "output_type": "stream",
     "text": [
      "705055001969590272000000\n"
     ]
    }
   ],
   "source": [
    "#program using reduce functionto compute of product of a list.\n",
    "from functools import reduce\n",
    "list1=[1,2,3,4,5,6,7,8,9,10,11,12,13,14,15,16,17,18,19,20,21,23,24,25]\n",
    "result1=reduce((lambda x, y: x* y),list1)\n",
    "print(result1)"
   ]
  },
  {
   "cell_type": "code",
   "execution_count": 29,
   "id": "44fa6708-70f4-454c-bfe0-9f402322e9b8",
   "metadata": {},
   "outputs": [
    {
     "name": "stdout",
     "output_type": "stream",
     "text": [
      "705055001969590272000000\n"
     ]
    }
   ],
   "source": [
    "#Another method ; program using reduce function to compute of product of a list.\n",
    "from functools import reduce\n",
    "import operator\n",
    "import functools\n",
    "list1=[1,2,3,4,5,6,7,8,9,10,11,12,13,14,15,16,17,18,19,20,21,23,24,25]\n",
    "#result1=reduce((lambda x, y: x* y),createlist(r1,r2))\n",
    "print(functools.reduce(operator.mul, list1))"
   ]
  },
  {
   "cell_type": "markdown",
   "id": "887f7542-2ece-4004-931d-20338cddb614",
   "metadata": {},
   "source": [
    "### 5.Write a python program to filter the numbers in a given list that are divisible by 2 and 3 using the filter function.\n",
    "\n",
    "       [2,3,6,9,27,60,90,120,55,46]"
   ]
  },
  {
   "cell_type": "code",
   "execution_count": 32,
   "id": "66167f71-9131-494c-aa45-edfd89e436de",
   "metadata": {},
   "outputs": [
    {
     "name": "stdout",
     "output_type": "stream",
     "text": [
      "Numbers divisible by 2 are:\n",
      "[2, 6, 60, 90, 120, 46]\n",
      "Numbers divisible by 3 are:\n",
      "[3, 6, 9, 27, 60, 90, 120]\n"
     ]
    }
   ],
   "source": [
    "#program to filter the numbers divisible by 2 and 3 using the filter function.\n",
    "num_list=[2,3,6,9,27,60,90,120,55,46]\n",
    "result_1=list(filter(lambda x: (x % 2 == 0),num_list))\n",
    "result_2=list(filter(lambda x: (x % 3 == 0),num_list))\n",
    "print(\"Numbers divisible by 2 are:\")\n",
    "print(result_1)\n",
    "print(\"Numbers divisible by 3 are:\")\n",
    "print(result_2)"
   ]
  },
  {
   "cell_type": "markdown",
   "id": "110f667d-c58b-494d-8e48-be6673afabdd",
   "metadata": {},
   "source": [
    "### 6.Write a python program to find palindromes in the given list of strings using lambda and filter functions.\n",
    "     \n",
    "         ['python','php','aba','radar','level']"
   ]
  },
  {
   "cell_type": "code",
   "execution_count": 34,
   "id": "1b47db46-7d74-4d07-83c3-4946d183c790",
   "metadata": {},
   "outputs": [
    {
     "name": "stdout",
     "output_type": "stream",
     "text": [
      "Original list of strings:\n",
      "['python', 'php', 'aba', 'radar', 'level']\n",
      "list of palindromes:\n",
      "['php', 'aba', 'radar', 'level']\n"
     ]
    }
   ],
   "source": [
    "#program to find palindromes by using lambda and filter functions.\n",
    "texts=[\"python\",\"php\",\"aba\",\"radar\",\"level\"]\n",
    "print(\"Original list of strings:\")\n",
    "print(texts)\n",
    "result=list(filter(lambda x: (x == \"\".join(reversed(x))),texts))\n",
    "print(\"list of palindromes:\")\n",
    "print(result)"
   ]
  },
  {
   "cell_type": "code",
   "execution_count": null,
   "id": "77c851c2-f98f-4870-af7c-8b00e7497e83",
   "metadata": {},
   "outputs": [],
   "source": []
  }
 ],
 "metadata": {
  "kernelspec": {
   "display_name": "Python 3 (ipykernel)",
   "language": "python",
   "name": "python3"
  },
  "language_info": {
   "codemirror_mode": {
    "name": "ipython",
    "version": 3
   },
   "file_extension": ".py",
   "mimetype": "text/x-python",
   "name": "python",
   "nbconvert_exporter": "python",
   "pygments_lexer": "ipython3",
   "version": "3.10.8"
  }
 },
 "nbformat": 4,
 "nbformat_minor": 5
}
